{
 "cells": [
  {
   "cell_type": "code",
   "execution_count": 1,
   "metadata": {},
   "outputs": [
    {
     "data": {
      "text/html": [
       "<div>\n",
       "<style scoped>\n",
       "    .dataframe tbody tr th:only-of-type {\n",
       "        vertical-align: middle;\n",
       "    }\n",
       "\n",
       "    .dataframe tbody tr th {\n",
       "        vertical-align: top;\n",
       "    }\n",
       "\n",
       "    .dataframe thead th {\n",
       "        text-align: right;\n",
       "    }\n",
       "</style>\n",
       "<table border=\"1\" class=\"dataframe\">\n",
       "  <thead>\n",
       "    <tr style=\"text-align: right;\">\n",
       "      <th></th>\n",
       "      <th>data_source</th>\n",
       "      <th>prompt</th>\n",
       "      <th>target</th>\n",
       "      <th>ability</th>\n",
       "      <th>reward_model</th>\n",
       "      <th>extra_info</th>\n",
       "    </tr>\n",
       "  </thead>\n",
       "  <tbody>\n",
       "    <tr>\n",
       "      <th>25871</th>\n",
       "      <td>olympiads</td>\n",
       "      <td>[{'content': 'Your task is to follow a systema...</td>\n",
       "      <td>[{'content': '&lt;think&gt;\n",
       "Okay, let's see. The pro...</td>\n",
       "      <td></td>\n",
       "      <td>{'ground_truth': '(\\frac{1}{2},\\frac{1}{2},\\fr...</td>\n",
       "      <td>{'index': -1, 'split': 'default'}</td>\n",
       "    </tr>\n",
       "    <tr>\n",
       "      <th>15860</th>\n",
       "      <td>olympiads</td>\n",
       "      <td>[{'content': 'Your task is to follow a systema...</td>\n",
       "      <td>[{'content': '&lt;think&gt;\n",
       "Okay, so I need to find ...</td>\n",
       "      <td></td>\n",
       "      <td>{'ground_truth': '90', 'style': 'rule'}</td>\n",
       "      <td>{'index': -1, 'split': 'default'}</td>\n",
       "    </tr>\n",
       "    <tr>\n",
       "      <th>20274</th>\n",
       "      <td>cn_contest</td>\n",
       "      <td>[{'content': 'Your task is to follow a systema...</td>\n",
       "      <td>[{'content': '&lt;think&gt;\n",
       "Okay, let's see. The pro...</td>\n",
       "      <td></td>\n",
       "      <td>{'ground_truth': 'D', 'style': 'rule'}</td>\n",
       "      <td>{'index': -1, 'split': 'default'}</td>\n",
       "    </tr>\n",
       "    <tr>\n",
       "      <th>27021</th>\n",
       "      <td>cn_contest</td>\n",
       "      <td>[{'content': 'Your task is to follow a systema...</td>\n",
       "      <td>[{'content': '&lt;think&gt;\n",
       "Okay, so I have this pro...</td>\n",
       "      <td></td>\n",
       "      <td>{'ground_truth': '3', 'style': 'rule'}</td>\n",
       "      <td>{'index': -1, 'split': 'default'}</td>\n",
       "    </tr>\n",
       "    <tr>\n",
       "      <th>2231</th>\n",
       "      <td>olympiads</td>\n",
       "      <td>[{'content': 'Your task is to follow a systema...</td>\n",
       "      <td>[{'content': '&lt;think&gt;\n",
       "Okay, so I have this pro...</td>\n",
       "      <td></td>\n",
       "      <td>{'ground_truth': '1', 'style': 'rule'}</td>\n",
       "      <td>{'index': -1, 'split': 'default'}</td>\n",
       "    </tr>\n",
       "  </tbody>\n",
       "</table>\n",
       "</div>"
      ],
      "text/plain": [
       "      data_source                                             prompt  \\\n",
       "25871   olympiads  [{'content': 'Your task is to follow a systema...   \n",
       "15860   olympiads  [{'content': 'Your task is to follow a systema...   \n",
       "20274  cn_contest  [{'content': 'Your task is to follow a systema...   \n",
       "27021  cn_contest  [{'content': 'Your task is to follow a systema...   \n",
       "2231    olympiads  [{'content': 'Your task is to follow a systema...   \n",
       "\n",
       "                                                  target ability  \\\n",
       "25871  [{'content': '<think>\n",
       "Okay, let's see. The pro...           \n",
       "15860  [{'content': '<think>\n",
       "Okay, so I need to find ...           \n",
       "20274  [{'content': '<think>\n",
       "Okay, let's see. The pro...           \n",
       "27021  [{'content': '<think>\n",
       "Okay, so I have this pro...           \n",
       "2231   [{'content': '<think>\n",
       "Okay, so I have this pro...           \n",
       "\n",
       "                                            reward_model  \\\n",
       "25871  {'ground_truth': '(\\frac{1}{2},\\frac{1}{2},\\fr...   \n",
       "15860            {'ground_truth': '90', 'style': 'rule'}   \n",
       "20274             {'ground_truth': 'D', 'style': 'rule'}   \n",
       "27021             {'ground_truth': '3', 'style': 'rule'}   \n",
       "2231              {'ground_truth': '1', 'style': 'rule'}   \n",
       "\n",
       "                              extra_info  \n",
       "25871  {'index': -1, 'split': 'default'}  \n",
       "15860  {'index': -1, 'split': 'default'}  \n",
       "20274  {'index': -1, 'split': 'default'}  \n",
       "27021  {'index': -1, 'split': 'default'}  \n",
       "2231   {'index': -1, 'split': 'default'}  "
      ]
     },
     "execution_count": 1,
     "metadata": {},
     "output_type": "execute_result"
    }
   ],
   "source": [
    "import pandas as pd\n",
    "\n",
    "rl_dataset = pd.read_parquet('./dataset/sub_8000_openr1.parquet')\n",
    "\n",
    "rl_dataset.head()"
   ]
  },
  {
   "cell_type": "code",
   "execution_count": 2,
   "metadata": {},
   "outputs": [
    {
     "data": {
      "text/plain": [
       "array([{'content': 'Your task is to follow a systematic, thorough reasoning process before providing the final solution. This involves analyzing, summarizing, exploring, reassessing, and refining your thought process through multiple iterations. Structure your response into two sections: Thought and Solution. In the Thought section, present your reasoning using the format: \"<think>\\n {thoughts} </think>\\n\". Each thought should include detailed analysis, brainstorming, verification, and refinement of ideas. After \"</think>\\n,\" in the Solution section, provide the final, logical, and accurate answer, clearly derived from the exploration in the Thought section. If applicable, include the answer in \\\\boxed{} for closed-form results like multiple choices or mathematical solutions.', 'role': 'system'},\n",
       "       {'content': '2. Find all triples ( $a, b, c$ ) where $a, b, c$ are the lengths of the sides of triangle $ABC$ with angles $\\\\alpha, \\\\beta, \\\\gamma$, such that the numbers $\\\\cos \\\\alpha, \\\\cos \\\\beta, \\\\cos \\\\gamma$ are the lengths of the sides of a triangle congruent to triangle $ABC$.', 'role': 'user'}],\n",
       "      dtype=object)"
      ]
     },
     "execution_count": 2,
     "metadata": {},
     "output_type": "execute_result"
    }
   ],
   "source": [
    "rl_dataset.iloc[0][\"prompt\"]"
   ]
  },
  {
   "cell_type": "code",
   "execution_count": 3,
   "metadata": {},
   "outputs": [
    {
     "name": "stdout",
     "output_type": "stream",
     "text": [
      "8000\n"
     ]
    }
   ],
   "source": [
    "prompts = []\n",
    "solutions = []\n",
    "\n",
    "for i, item in rl_dataset.iterrows():\n",
    "    prompt = item['prompt'][1][\"content\"]\n",
    "    solution = item['target'][0]['content']\n",
    "\n",
    "    prompts.append(prompt)\n",
    "    solutions.append(solution)\n",
    "\n",
    "df = pd.DataFrame({'prompt': prompts, 'answer': solutions})\n",
    "print(len(df))\n",
    "\n",
    "df.to_parquet(\"./dataset/sub_8000_sft.parquet\")"
   ]
  },
  {
   "cell_type": "code",
   "execution_count": 5,
   "metadata": {},
   "outputs": [
    {
     "data": {
      "text/html": [
       "<div>\n",
       "<style scoped>\n",
       "    .dataframe tbody tr th:only-of-type {\n",
       "        vertical-align: middle;\n",
       "    }\n",
       "\n",
       "    .dataframe tbody tr th {\n",
       "        vertical-align: top;\n",
       "    }\n",
       "\n",
       "    .dataframe thead th {\n",
       "        text-align: right;\n",
       "    }\n",
       "</style>\n",
       "<table border=\"1\" class=\"dataframe\">\n",
       "  <thead>\n",
       "    <tr style=\"text-align: right;\">\n",
       "      <th></th>\n",
       "      <th>data_source</th>\n",
       "      <th>prompt</th>\n",
       "      <th>ability</th>\n",
       "      <th>reward_model</th>\n",
       "      <th>extra_info</th>\n",
       "    </tr>\n",
       "  </thead>\n",
       "  <tbody>\n",
       "    <tr>\n",
       "      <th>240</th>\n",
       "      <td>math</td>\n",
       "      <td>[{'content': 'Your task is to follow a systema...</td>\n",
       "      <td>math</td>\n",
       "      <td>{'ground_truth': '\\left( 3, \\frac{\\pi}{2} \\rig...</td>\n",
       "      <td>{'index': 0, 'split': 'default'}</td>\n",
       "    </tr>\n",
       "    <tr>\n",
       "      <th>241</th>\n",
       "      <td>math</td>\n",
       "      <td>[{'content': 'Your task is to follow a systema...</td>\n",
       "      <td>math</td>\n",
       "      <td>{'ground_truth': 'p - q', 'style': 'rule'}</td>\n",
       "      <td>{'index': 1, 'split': 'default'}</td>\n",
       "    </tr>\n",
       "    <tr>\n",
       "      <th>242</th>\n",
       "      <td>math</td>\n",
       "      <td>[{'content': 'Your task is to follow a systema...</td>\n",
       "      <td>math</td>\n",
       "      <td>{'ground_truth': '\\frac{14}{3}', 'style': 'rule'}</td>\n",
       "      <td>{'index': 2, 'split': 'default'}</td>\n",
       "    </tr>\n",
       "    <tr>\n",
       "      <th>243</th>\n",
       "      <td>math</td>\n",
       "      <td>[{'content': 'Your task is to follow a systema...</td>\n",
       "      <td>math</td>\n",
       "      <td>{'ground_truth': '9', 'style': 'rule'}</td>\n",
       "      <td>{'index': 3, 'split': 'default'}</td>\n",
       "    </tr>\n",
       "    <tr>\n",
       "      <th>244</th>\n",
       "      <td>math</td>\n",
       "      <td>[{'content': 'Your task is to follow a systema...</td>\n",
       "      <td>math</td>\n",
       "      <td>{'ground_truth': '\\text{Evelyn}', 'style': 'ru...</td>\n",
       "      <td>{'index': 4, 'split': 'default'}</td>\n",
       "    </tr>\n",
       "  </tbody>\n",
       "</table>\n",
       "</div>"
      ],
      "text/plain": [
       "    data_source                                             prompt ability  \\\n",
       "240        math  [{'content': 'Your task is to follow a systema...    math   \n",
       "241        math  [{'content': 'Your task is to follow a systema...    math   \n",
       "242        math  [{'content': 'Your task is to follow a systema...    math   \n",
       "243        math  [{'content': 'Your task is to follow a systema...    math   \n",
       "244        math  [{'content': 'Your task is to follow a systema...    math   \n",
       "\n",
       "                                          reward_model  \\\n",
       "240  {'ground_truth': '\\left( 3, \\frac{\\pi}{2} \\rig...   \n",
       "241         {'ground_truth': 'p - q', 'style': 'rule'}   \n",
       "242  {'ground_truth': '\\frac{14}{3}', 'style': 'rule'}   \n",
       "243             {'ground_truth': '9', 'style': 'rule'}   \n",
       "244  {'ground_truth': '\\text{Evelyn}', 'style': 'ru...   \n",
       "\n",
       "                           extra_info  \n",
       "240  {'index': 0, 'split': 'default'}  \n",
       "241  {'index': 1, 'split': 'default'}  \n",
       "242  {'index': 2, 'split': 'default'}  \n",
       "243  {'index': 3, 'split': 'default'}  \n",
       "244  {'index': 4, 'split': 'default'}  "
      ]
     },
     "execution_count": 5,
     "metadata": {},
     "output_type": "execute_result"
    }
   ],
   "source": [
    "import pandas as pd\n",
    "\n",
    "val_rl_dataset = pd.read_parquet('./dataset/valid.all.parquet')\n",
    "\n",
    "val_rl_dataset.head()"
   ]
  },
  {
   "cell_type": "code",
   "execution_count": 6,
   "metadata": {},
   "outputs": [
    {
     "name": "stdout",
     "output_type": "stream",
     "text": [
      "45792\n"
     ]
    }
   ],
   "source": [
    "prompts = []\n",
    "answers = []\n",
    "\n",
    "for i, item in rl_dataset.iterrows():\n",
    "    prompt = item['prompt'][1][\"content\"]\n",
    "    answer = item['reward_model']['ground_truth']\n",
    "\n",
    "    prompts.append(prompt)\n",
    "    answers.append(answer)\n",
    "\n",
    "df = pd.DataFrame({'prompt': prompts, 'answer': answers})\n",
    "print(len(df))\n",
    "df.head()\n",
    "\n",
    "df.to_parquet(\"./dataset/sft_val.parquet\")"
   ]
  },
  {
   "cell_type": "code",
   "execution_count": null,
   "metadata": {},
   "outputs": [],
   "source": []
  }
 ],
 "metadata": {
  "kernelspec": {
   "display_name": "Python 3 (ipykernel)",
   "language": "python",
   "name": "python3"
  },
  "language_info": {
   "codemirror_mode": {
    "name": "ipython",
    "version": 3
   },
   "file_extension": ".py",
   "mimetype": "text/x-python",
   "name": "python",
   "nbconvert_exporter": "python",
   "pygments_lexer": "ipython3",
   "version": "3.10.0"
  }
 },
 "nbformat": 4,
 "nbformat_minor": 4
}
