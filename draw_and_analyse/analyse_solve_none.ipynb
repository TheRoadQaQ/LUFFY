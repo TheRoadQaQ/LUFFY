{
 "cells": [
  {
   "cell_type": "code",
   "execution_count": 4,
   "id": "5d23be25-312f-4c22-9f96-185e5b28232c",
   "metadata": {},
   "outputs": [
    {
     "data": {
      "text/html": [
       "<div>\n",
       "<style scoped>\n",
       "    .dataframe tbody tr th:only-of-type {\n",
       "        vertical-align: middle;\n",
       "    }\n",
       "\n",
       "    .dataframe tbody tr th {\n",
       "        vertical-align: top;\n",
       "    }\n",
       "\n",
       "    .dataframe thead th {\n",
       "        text-align: right;\n",
       "    }\n",
       "</style>\n",
       "<table border=\"1\" class=\"dataframe\">\n",
       "  <thead>\n",
       "    <tr style=\"text-align: right;\">\n",
       "      <th></th>\n",
       "      <th>Step</th>\n",
       "      <th>7b_INTERLEAVE - batch/solve_none</th>\n",
       "      <th>7b_INTERLEAVE - batch/solve_none__MIN</th>\n",
       "      <th>7b_INTERLEAVE - batch/solve_none__MAX</th>\n",
       "    </tr>\n",
       "  </thead>\n",
       "  <tbody>\n",
       "    <tr>\n",
       "      <th>0</th>\n",
       "      <td>1</td>\n",
       "      <td>40</td>\n",
       "      <td>40</td>\n",
       "      <td>40</td>\n",
       "    </tr>\n",
       "    <tr>\n",
       "      <th>1</th>\n",
       "      <td>2</td>\n",
       "      <td>40</td>\n",
       "      <td>40</td>\n",
       "      <td>40</td>\n",
       "    </tr>\n",
       "    <tr>\n",
       "      <th>2</th>\n",
       "      <td>3</td>\n",
       "      <td>37</td>\n",
       "      <td>37</td>\n",
       "      <td>37</td>\n",
       "    </tr>\n",
       "    <tr>\n",
       "      <th>3</th>\n",
       "      <td>4</td>\n",
       "      <td>44</td>\n",
       "      <td>44</td>\n",
       "      <td>44</td>\n",
       "    </tr>\n",
       "    <tr>\n",
       "      <th>4</th>\n",
       "      <td>5</td>\n",
       "      <td>40</td>\n",
       "      <td>40</td>\n",
       "      <td>40</td>\n",
       "    </tr>\n",
       "  </tbody>\n",
       "</table>\n",
       "</div>"
      ],
      "text/plain": [
       "   Step  7b_INTERLEAVE - batch/solve_none  \\\n",
       "0     1                                40   \n",
       "1     2                                40   \n",
       "2     3                                37   \n",
       "3     4                                44   \n",
       "4     5                                40   \n",
       "\n",
       "   7b_INTERLEAVE - batch/solve_none__MIN  \\\n",
       "0                                     40   \n",
       "1                                     40   \n",
       "2                                     37   \n",
       "3                                     44   \n",
       "4                                     40   \n",
       "\n",
       "   7b_INTERLEAVE - batch/solve_none__MAX  \n",
       "0                                     40  \n",
       "1                                     40  \n",
       "2                                     37  \n",
       "3                                     44  \n",
       "4                                     40  "
      ]
     },
     "execution_count": 4,
     "metadata": {},
     "output_type": "execute_result"
    }
   ],
   "source": [
    "import pandas as pd\n",
    "\n",
    "# 读取整个CSV文件到DataFrame\n",
    "df = pd.read_csv('solve_none.csv')\n",
    "df.head()"
   ]
  },
  {
   "cell_type": "code",
   "execution_count": 6,
   "id": "fdbfb5c3-c119-4acd-b1dd-accbdf8c323a",
   "metadata": {},
   "outputs": [
    {
     "name": "stdout",
     "output_type": "stream",
     "text": [
      "   Step  7b_INTERLEAVE - batch/solve_none\n",
      "0     1                                40\n",
      "1     2                                40\n",
      "2     3                                37\n",
      "3     4                                44\n",
      "4     5                                40\n"
     ]
    }
   ],
   "source": [
    "df = df[['Step', '7b_INTERLEAVE - batch/solve_none']]\n",
    "# 查看前5行\n",
    "print(df.head())"
   ]
  },
  {
   "cell_type": "code",
   "execution_count": 10,
   "id": "2c9fa244-0a95-4d31-be06-6f55f3b62352",
   "metadata": {},
   "outputs": [
    {
     "name": "stdout",
     "output_type": "stream",
     "text": [
      "平均值: 16.083916083916083\n"
     ]
    }
   ],
   "source": [
    "# 假设你的DataFrame名为df\n",
    "average = df['7b_INTERLEAVE - batch/solve_none'].mean()\n",
    "\n",
    "print(f\"平均值: {average}\")"
   ]
  },
  {
   "cell_type": "code",
   "execution_count": 8,
   "id": "8620f1c0-baa6-4413-ba19-5934a2da590c",
   "metadata": {},
   "outputs": [
    {
     "name": "stdout",
     "output_type": "stream",
     "text": [
      "平均值: 14.0\n"
     ]
    }
   ],
   "source": [
    "average = df['7b_INTERLEAVE - batch/solve_none'].median()\n",
    "\n",
    "print(f\"平均值: {average}\")"
   ]
  },
  {
   "cell_type": "code",
   "execution_count": null,
   "id": "4413d0b5-7647-4aed-9c87-40538293345a",
   "metadata": {},
   "outputs": [],
   "source": []
  }
 ],
 "metadata": {
  "kernelspec": {
   "display_name": "LUFFY",
   "language": "python",
   "name": "luffy"
  },
  "language_info": {
   "codemirror_mode": {
    "name": "ipython",
    "version": 3
   },
   "file_extension": ".py",
   "mimetype": "text/x-python",
   "name": "python",
   "nbconvert_exporter": "python",
   "pygments_lexer": "ipython3",
   "version": "3.10.0"
  }
 },
 "nbformat": 4,
 "nbformat_minor": 5
}
