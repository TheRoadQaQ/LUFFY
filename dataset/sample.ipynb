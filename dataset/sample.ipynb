{
 "cells": [
  {
   "cell_type": "code",
   "execution_count": 13,
   "id": "b0858ef5-0a23-4230-a694-b53dd6b70416",
   "metadata": {},
   "outputs": [
    {
     "data": {
      "text/html": [
       "<div>\n",
       "<style scoped>\n",
       "    .dataframe tbody tr th:only-of-type {\n",
       "        vertical-align: middle;\n",
       "    }\n",
       "\n",
       "    .dataframe tbody tr th {\n",
       "        vertical-align: top;\n",
       "    }\n",
       "\n",
       "    .dataframe thead th {\n",
       "        text-align: right;\n",
       "    }\n",
       "</style>\n",
       "<table border=\"1\" class=\"dataframe\">\n",
       "  <thead>\n",
       "    <tr style=\"text-align: right;\">\n",
       "      <th></th>\n",
       "      <th>data_source</th>\n",
       "      <th>prompt</th>\n",
       "      <th>target</th>\n",
       "      <th>ability</th>\n",
       "      <th>reward_model</th>\n",
       "      <th>extra_info</th>\n",
       "    </tr>\n",
       "  </thead>\n",
       "  <tbody>\n",
       "    <tr>\n",
       "      <th>0</th>\n",
       "      <td>olympiads</td>\n",
       "      <td>[{'content': 'Your task is to follow a systema...</td>\n",
       "      <td>[{'content': '&lt;think&gt;\n",
       "Okay, so I need to find ...</td>\n",
       "      <td></td>\n",
       "      <td>{'ground_truth': 'v_{R}=4\\mathrm{~}/\\mathrm{},...</td>\n",
       "      <td>{'index': -1, 'split': 'default'}</td>\n",
       "    </tr>\n",
       "    <tr>\n",
       "      <th>1</th>\n",
       "      <td>olympiads</td>\n",
       "      <td>[{'content': 'Your task is to follow a systema...</td>\n",
       "      <td>[{'content': '&lt;think&gt;\n",
       "Okay, let me try to figu...</td>\n",
       "      <td></td>\n",
       "      <td>{'ground_truth': '180', 'style': 'rule'}</td>\n",
       "      <td>{'index': -1, 'split': 'default'}</td>\n",
       "    </tr>\n",
       "    <tr>\n",
       "      <th>2</th>\n",
       "      <td>cn_contest</td>\n",
       "      <td>[{'content': 'Your task is to follow a systema...</td>\n",
       "      <td>[{'content': '&lt;think&gt;\n",
       "Okay, so I have this pro...</td>\n",
       "      <td></td>\n",
       "      <td>{'ground_truth': 'D', 'style': 'rule'}</td>\n",
       "      <td>{'index': -1, 'split': 'default'}</td>\n",
       "    </tr>\n",
       "    <tr>\n",
       "      <th>3</th>\n",
       "      <td>olympiads</td>\n",
       "      <td>[{'content': 'Your task is to follow a systema...</td>\n",
       "      <td>[{'content': '&lt;think&gt;\n",
       "Okay, so I need to solve...</td>\n",
       "      <td></td>\n",
       "      <td>{'ground_truth': '\\frac{1}{4}', 'style': 'rule'}</td>\n",
       "      <td>{'index': -1, 'split': 'default'}</td>\n",
       "    </tr>\n",
       "    <tr>\n",
       "      <th>4</th>\n",
       "      <td>aops_forum</td>\n",
       "      <td>[{'content': 'Your task is to follow a systema...</td>\n",
       "      <td>[{'content': '&lt;think&gt;\n",
       "Okay, so I need to find ...</td>\n",
       "      <td></td>\n",
       "      <td>{'ground_truth': '-\\ln 2', 'style': 'rule'}</td>\n",
       "      <td>{'index': -1, 'split': 'default'}</td>\n",
       "    </tr>\n",
       "  </tbody>\n",
       "</table>\n",
       "</div>"
      ],
      "text/plain": [
       "  data_source                                             prompt  \\\n",
       "0   olympiads  [{'content': 'Your task is to follow a systema...   \n",
       "1   olympiads  [{'content': 'Your task is to follow a systema...   \n",
       "2  cn_contest  [{'content': 'Your task is to follow a systema...   \n",
       "3   olympiads  [{'content': 'Your task is to follow a systema...   \n",
       "4  aops_forum  [{'content': 'Your task is to follow a systema...   \n",
       "\n",
       "                                              target ability  \\\n",
       "0  [{'content': '<think>\n",
       "Okay, so I need to find ...           \n",
       "1  [{'content': '<think>\n",
       "Okay, let me try to figu...           \n",
       "2  [{'content': '<think>\n",
       "Okay, so I have this pro...           \n",
       "3  [{'content': '<think>\n",
       "Okay, so I need to solve...           \n",
       "4  [{'content': '<think>\n",
       "Okay, so I need to find ...           \n",
       "\n",
       "                                        reward_model  \\\n",
       "0  {'ground_truth': 'v_{R}=4\\mathrm{~}/\\mathrm{},...   \n",
       "1           {'ground_truth': '180', 'style': 'rule'}   \n",
       "2             {'ground_truth': 'D', 'style': 'rule'}   \n",
       "3   {'ground_truth': '\\frac{1}{4}', 'style': 'rule'}   \n",
       "4        {'ground_truth': '-\\ln 2', 'style': 'rule'}   \n",
       "\n",
       "                          extra_info  \n",
       "0  {'index': -1, 'split': 'default'}  \n",
       "1  {'index': -1, 'split': 'default'}  \n",
       "2  {'index': -1, 'split': 'default'}  \n",
       "3  {'index': -1, 'split': 'default'}  \n",
       "4  {'index': -1, 'split': 'default'}  "
      ]
     },
     "execution_count": 13,
     "metadata": {},
     "output_type": "execute_result"
    }
   ],
   "source": [
    "import pandas as pd\n",
    "\n",
    "df = pd.read_parquet(\"./openr1.parquet\")\n",
    "df.head()"
   ]
  },
  {
   "cell_type": "code",
   "execution_count": 14,
   "id": "754632ae-b54f-4b8b-8ebb-6c06f503f915",
   "metadata": {},
   "outputs": [
    {
     "name": "stdout",
     "output_type": "stream",
     "text": [
      "45792\n"
     ]
    }
   ],
   "source": [
    "print(len(df))"
   ]
  },
  {
   "cell_type": "code",
   "execution_count": 15,
   "id": "dda659eb-f32e-411e-b512-430a12efd977",
   "metadata": {},
   "outputs": [],
   "source": [
    "random_seed = 42\n",
    "n_samples = 1000\n",
    "\n",
    "# 按随机种子抽取 1000 行（不放回抽样）\n",
    "sampled_df = df.sample(n=n_samples, random_state=random_seed)"
   ]
  },
  {
   "cell_type": "code",
   "execution_count": 16,
   "id": "424c17ae-d225-4db0-8ff8-34936025eb07",
   "metadata": {},
   "outputs": [],
   "source": [
    "sampled_df.to_parquet(\"./sub_1000_openr1.parquet\")"
   ]
  },
  {
   "cell_type": "code",
   "execution_count": null,
   "id": "0c79165e-49e1-4412-940d-e1fdd3d78921",
   "metadata": {},
   "outputs": [],
   "source": [
    "remaining_df = df.drop(sampled_df.index)\n",
    "second_sample = remaining_df.sample(n=1000, random_state=random_seed)"
   ]
  }
 ],
 "metadata": {
  "kernelspec": {
   "display_name": "Python 3 (ipykernel)",
   "language": "python",
   "name": "python3"
  },
  "language_info": {
   "codemirror_mode": {
    "name": "ipython",
    "version": 3
   },
   "file_extension": ".py",
   "mimetype": "text/x-python",
   "name": "python",
   "nbconvert_exporter": "python",
   "pygments_lexer": "ipython3",
   "version": "3.10.0"
  }
 },
 "nbformat": 4,
 "nbformat_minor": 5
}
