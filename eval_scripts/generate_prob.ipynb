{
 "cells": [
  {
   "cell_type": "code",
   "execution_count": 1,
   "id": "1cf9cf9c",
   "metadata": {},
   "outputs": [
    {
     "name": "stderr",
     "output_type": "stream",
     "text": [
      "/data/malu/miniconda3/envs/dynamic_rl_sampler/lib/python3.10/site-packages/tqdm/auto.py:21: TqdmWarning: IProgress not found. Please update jupyter and ipywidgets. See https://ipywidgets.readthedocs.io/en/stable/user_install.html\n",
      "  from .autonotebook import tqdm as notebook_tqdm\n",
      "Sliding Window Attention is enabled but not implemented for `sdpa`; unexpected results may be encountered.\n"
     ]
    },
    {
     "name": "stdout",
     "output_type": "stream",
     "text": [
      "Token: ĠParis   | Probability: 0.3022\n"
     ]
    }
   ],
   "source": [
    "from transformers import AutoTokenizer, AutoModelForCausalLM\n",
    "import torch\n",
    "\n",
    "model_name = \"/data/malu/Qwen2.5-0.5B-Instruct\"  # 可替换为其他自回归模型\n",
    "tokenizer = AutoTokenizer.from_pretrained(model_name)\n",
    "model = AutoModelForCausalLM.from_pretrained(model_name)\n",
    "model.eval()"
   ]
  },
  {
   "cell_type": "code",
   "execution_count": null,
   "id": "b4192d4c",
   "metadata": {},
   "outputs": [],
   "source": [
    "def batch_calculate_probs(question, answer):\n",
    "    # 编码时不添加特殊token\n",
    "    question_ids = tokenizer.encode(question, add_special_tokens=False, return_tensors=\"pt\")\n",
    "    answer_ids = tokenizer.encode(answer, add_special_tokens=False, return_tensors=\"pt\")\n",
    "    \n",
    "    # 拼接完整序列\n",
    "    full_ids = torch.cat([question_ids, answer_ids], dim=1)\n",
    "    \n",
    "    # 前向传播获取所有logits\n",
    "    with torch.no_grad():\n",
    "        outputs = model(full_ids)\n",
    "    \n",
    "    # 提取概率\n",
    "    logits = outputs.logits[0]  # 取第一个样本\n",
    "    probs = torch.softmax(logits, dim=-1)\n",
    "    \n",
    "    # 计算答案部分概率\n",
    "    start_pos = question_ids.shape[1] - 1  # 起始位置\n",
    "    answer_probs = []\n",
    "    \n",
    "    for i in range(answer_ids.shape[1]):\n",
    "        pos = start_pos + i\n",
    "        token_id = answer_ids[0, i].item()\n",
    "        answer_probs.append(probs[pos, token_id].item())\n",
    "    \n",
    "    # 转换token\n",
    "    tokens = tokenizer.convert_ids_to_tokens(answer_ids[0])\n",
    "    return list(zip(tokens, answer_probs))\n",
    "\n",
    "# 使用示例\n",
    "question = \"The capital of France is\"\n",
    "answer = \" Paris\"\n",
    "result = batch_calculate_probs(question, answer)\n",
    "\n",
    "for token, prob in result:\n",
    "    print(f\"Token: {token:<8} | Probability: {prob:.4f}\")"
   ]
  },
  {
   "cell_type": "code",
   "execution_count": 2,
   "id": "99de6b6b-1041-4ea0-8c05-e27af52ef050",
   "metadata": {},
   "outputs": [
    {
     "data": {
      "text/html": [
       "<div>\n",
       "<style scoped>\n",
       "    .dataframe tbody tr th:only-of-type {\n",
       "        vertical-align: middle;\n",
       "    }\n",
       "\n",
       "    .dataframe tbody tr th {\n",
       "        vertical-align: top;\n",
       "    }\n",
       "\n",
       "    .dataframe thead th {\n",
       "        text-align: right;\n",
       "    }\n",
       "</style>\n",
       "<table border=\"1\" class=\"dataframe\">\n",
       "  <thead>\n",
       "    <tr style=\"text-align: right;\">\n",
       "      <th></th>\n",
       "      <th>data_source</th>\n",
       "      <th>prompt</th>\n",
       "      <th>target</th>\n",
       "      <th>ability</th>\n",
       "      <th>reward_model</th>\n",
       "      <th>extra_info</th>\n",
       "    </tr>\n",
       "  </thead>\n",
       "  <tbody>\n",
       "    <tr>\n",
       "      <th>13505</th>\n",
       "      <td>olympiads</td>\n",
       "      <td>[{'content': 'Your task is to follow a systema...</td>\n",
       "      <td>[{'content': '&lt;think&gt;\n",
       "Alright, let's tackle th...</td>\n",
       "      <td></td>\n",
       "      <td>{'ground_truth': '0', 'style': 'rule'}</td>\n",
       "      <td>{'index': -1, 'split': 'default'}</td>\n",
       "    </tr>\n",
       "    <tr>\n",
       "      <th>41680</th>\n",
       "      <td>olympiads</td>\n",
       "      <td>[{'content': 'Your task is to follow a systema...</td>\n",
       "      <td>[{'content': '&lt;think&gt;\n",
       "Okay, so I need to find ...</td>\n",
       "      <td></td>\n",
       "      <td>{'ground_truth': '45', 'style': 'rule'}</td>\n",
       "      <td>{'index': -1, 'split': 'default'}</td>\n",
       "    </tr>\n",
       "    <tr>\n",
       "      <th>36327</th>\n",
       "      <td>olympiads</td>\n",
       "      <td>[{'content': 'Your task is to follow a systema...</td>\n",
       "      <td>[{'content': '&lt;think&gt;\n",
       "Okay, let's see. I need ...</td>\n",
       "      <td></td>\n",
       "      <td>{'ground_truth': '5', 'style': 'rule'}</td>\n",
       "      <td>{'index': -1, 'split': 'default'}</td>\n",
       "    </tr>\n",
       "    <tr>\n",
       "      <th>4336</th>\n",
       "      <td>olympiads</td>\n",
       "      <td>[{'content': 'Your task is to follow a systema...</td>\n",
       "      <td>[{'content': '&lt;think&gt;\n",
       "Alright, let's tackle th...</td>\n",
       "      <td></td>\n",
       "      <td>{'ground_truth': '0.75', 'style': 'rule'}</td>\n",
       "      <td>{'index': -1, 'split': 'default'}</td>\n",
       "    </tr>\n",
       "    <tr>\n",
       "      <th>9035</th>\n",
       "      <td>olympiads</td>\n",
       "      <td>[{'content': 'Your task is to follow a systema...</td>\n",
       "      <td>[{'content': '&lt;think&gt;\n",
       "Okay, let's see. So the ...</td>\n",
       "      <td></td>\n",
       "      <td>{'ground_truth': '34', 'style': 'rule'}</td>\n",
       "      <td>{'index': -1, 'split': 'default'}</td>\n",
       "    </tr>\n",
       "  </tbody>\n",
       "</table>\n",
       "</div>"
      ],
      "text/plain": [
       "      data_source                                             prompt  \\\n",
       "13505   olympiads  [{'content': 'Your task is to follow a systema...   \n",
       "41680   olympiads  [{'content': 'Your task is to follow a systema...   \n",
       "36327   olympiads  [{'content': 'Your task is to follow a systema...   \n",
       "4336    olympiads  [{'content': 'Your task is to follow a systema...   \n",
       "9035    olympiads  [{'content': 'Your task is to follow a systema...   \n",
       "\n",
       "                                                  target ability  \\\n",
       "13505  [{'content': '<think>\n",
       "Alright, let's tackle th...           \n",
       "41680  [{'content': '<think>\n",
       "Okay, so I need to find ...           \n",
       "36327  [{'content': '<think>\n",
       "Okay, let's see. I need ...           \n",
       "4336   [{'content': '<think>\n",
       "Alright, let's tackle th...           \n",
       "9035   [{'content': '<think>\n",
       "Okay, let's see. So the ...           \n",
       "\n",
       "                                    reward_model  \\\n",
       "13505     {'ground_truth': '0', 'style': 'rule'}   \n",
       "41680    {'ground_truth': '45', 'style': 'rule'}   \n",
       "36327     {'ground_truth': '5', 'style': 'rule'}   \n",
       "4336   {'ground_truth': '0.75', 'style': 'rule'}   \n",
       "9035     {'ground_truth': '34', 'style': 'rule'}   \n",
       "\n",
       "                              extra_info  \n",
       "13505  {'index': -1, 'split': 'default'}  \n",
       "41680  {'index': -1, 'split': 'default'}  \n",
       "36327  {'index': -1, 'split': 'default'}  \n",
       "4336   {'index': -1, 'split': 'default'}  \n",
       "9035   {'index': -1, 'split': 'default'}  "
      ]
     },
     "execution_count": 2,
     "metadata": {},
     "output_type": "execute_result"
    }
   ],
   "source": [
    "import pandas as pd\n",
    "\n",
    "input_file = \"../dataset/sub_1000_openr1.parquet\"\n",
    "df = pd.read_parquet(input_file)\n",
    "df.head()"
   ]
  },
  {
   "cell_type": "code",
   "execution_count": 2,
   "id": "7412a4d6-142d-4879-8df0-049f0f8d7fed",
   "metadata": {
    "scrolled": true
   },
   "outputs": [
    {
     "ename": "NameError",
     "evalue": "name 'df' is not defined",
     "output_type": "error",
     "traceback": [
      "\u001b[0;31m---------------------------------------------------------------------------\u001b[0m",
      "\u001b[0;31mNameError\u001b[0m                                 Traceback (most recent call last)",
      "Cell \u001b[0;32mIn[2], line 6\u001b[0m\n\u001b[1;32m      3\u001b[0m \u001b[38;5;28;01mfor\u001b[39;00m i \u001b[38;5;129;01min\u001b[39;00m \u001b[38;5;28mrange\u001b[39m(\u001b[38;5;241m5\u001b[39m):\n\u001b[1;32m      4\u001b[0m     prob_dict \u001b[38;5;241m=\u001b[39m {}\n\u001b[0;32m----> 6\u001b[0m     sample \u001b[38;5;241m=\u001b[39m \u001b[43mdf\u001b[49m\u001b[38;5;241m.\u001b[39miloc[i]\n\u001b[1;32m      8\u001b[0m     message \u001b[38;5;241m=\u001b[39m sample[\u001b[38;5;124m'\u001b[39m\u001b[38;5;124mprompt\u001b[39m\u001b[38;5;124m'\u001b[39m]\n\u001b[1;32m      9\u001b[0m     target \u001b[38;5;241m=\u001b[39m sample[\u001b[38;5;124m'\u001b[39m\u001b[38;5;124mtarget\u001b[39m\u001b[38;5;124m'\u001b[39m][\u001b[38;5;241m0\u001b[39m][\u001b[38;5;124m\"\u001b[39m\u001b[38;5;124mcontent\u001b[39m\u001b[38;5;124m\"\u001b[39m]\n",
      "\u001b[0;31mNameError\u001b[0m: name 'df' is not defined"
     ]
    }
   ],
   "source": [
    "results = []\n",
    "\n",
    "for i in range(5):\n",
    "    prob_dict = {}\n",
    "    \n",
    "    sample = df.iloc[i]\n",
    "\n",
    "    message = sample['prompt']\n",
    "    target = sample['target'][0][\"content\"]\n",
    "\n",
    "    prompt_with_chat_template = tokenizer.apply_chat_template(\n",
    "                    message,\n",
    "                    tokenize=False,\n",
    "                    add_generation_prompt=True\n",
    "                )\n",
    "\n",
    "    if prompt_with_chat_template.endswith('<think>\\n') and target.startswith('<think>\\n'):\n",
    "        target = target[len('<think>\\n'):]\n",
    "\n",
    "    result = batch_calculate_probs(prompt_with_chat_template, target)\n",
    "    #for token, prob in result:\n",
    "    #    print(f\"Token: {token:<8} | Probability: {prob:.4f}\")\n",
    "\n",
    "    results.append(result)"
   ]
  },
  {
   "cell_type": "code",
   "execution_count": 1,
   "id": "af7381ca-0a79-4795-9a0e-71b8fd570af2",
   "metadata": {},
   "outputs": [
    {
     "ename": "NameError",
     "evalue": "name 'results' is not defined",
     "output_type": "error",
     "traceback": [
      "\u001b[0;31m---------------------------------------------------------------------------\u001b[0m",
      "\u001b[0;31mNameError\u001b[0m                                 Traceback (most recent call last)",
      "Cell \u001b[0;32mIn[1], line 1\u001b[0m\n\u001b[0;32m----> 1\u001b[0m \u001b[43mresults\u001b[49m\n",
      "\u001b[0;31mNameError\u001b[0m: name 'results' is not defined"
     ]
    }
   ],
   "source": [
    "results"
   ]
  },
  {
   "cell_type": "code",
   "execution_count": null,
   "id": "4e55ffc3-768b-499c-8182-f539e23639f2",
   "metadata": {},
   "outputs": [],
   "source": []
  },
  {
   "cell_type": "code",
   "execution_count": 6,
   "id": "0aae17f9-6e6a-4d31-908c-d0dab58f6a78",
   "metadata": {},
   "outputs": [
    {
     "name": "stdout",
     "output_type": "stream",
     "text": [
      "Your task is to follow a systematic, thorough reasoning process before providing the final solution. This involves analyzing, summarizing, exploring, reassessing, and refining your thought process through multiple iterations. Structure your response into two sections: Thought and Solution. In the Thought section, present your reasoning using the format: “<think>\n",
      " {thoughts} </think>\n",
      "”. Each thought should include detailed analysis, brainstorming, verification, and refinement of ideas. After “</think>\n",
      ",” in the Solution section, provide the final, logical, and accurate answer, clearly derived from the exploration in the Thought section. If applicable, include the answer inoxed{} for closed-form results like multiple choices or mathematical solutions. User: This is the problem:\n",
      "7.177. $\\frac{\\log _{2}\\left(9-2^{x}\\right)}{3-x}=1$.\n",
      "\n",
      "Translate the above text into English, please keep the original text's line breaks and format, and output the translation result directly.\n",
      "\n",
      "7.177. $\\frac{\\log _{2}\\left(9-2^{x}\\right)}{3-x}=1$.\n",
      "Assistant: <think>\n",
      "\n"
     ]
    }
   ],
   "source": [
    "from transformers import AutoTokenizer, AutoModelForCausalLM\n",
    "\n",
    "model_name = \"/jizhicfs/hymiezhao/models/Qwen2.5-Math-7B-16k-think\"  # 可替换为其他自回归模型\n",
    "tokenizer = AutoTokenizer.from_pretrained(model_name)\n",
    "\n",
    "message = df.iloc[0]['prompt']\n",
    "\n",
    "prompt_with_chat_template = tokenizer.apply_chat_template(\n",
    "                    message,\n",
    "                    tokenize=False,\n",
    "                    add_generation_prompt=True\n",
    "                )\n",
    "\n",
    "print(prompt_with_chat_template)"
   ]
  },
  {
   "cell_type": "code",
   "execution_count": null,
   "id": "5b3dccdd-2d45-4593-879e-c1805d405015",
   "metadata": {},
   "outputs": [],
   "source": []
  }
 ],
 "metadata": {
  "kernelspec": {
   "display_name": "LUFFY",
   "language": "python",
   "name": "luffy"
  },
  "language_info": {
   "codemirror_mode": {
    "name": "ipython",
    "version": 3
   },
   "file_extension": ".py",
   "mimetype": "text/x-python",
   "name": "python",
   "nbconvert_exporter": "python",
   "pygments_lexer": "ipython3",
   "version": "3.10.0"
  }
 },
 "nbformat": 4,
 "nbformat_minor": 5
}
